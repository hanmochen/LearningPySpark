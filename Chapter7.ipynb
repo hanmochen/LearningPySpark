{
 "cells": [
  {
   "cell_type": "markdown",
   "metadata": {},
   "source": [
    "# Chapter 7 GraphFrames\n",
    "\n",
    "Graphs are an interesting way to solve data problems because graph structures are a more intuitive approach to many classes of data problems.\n",
    "\n",
    "In this chapter, you will learn about:\n",
    "- Why use graphs?\n",
    "- Understanding the classic graph problem: the flights dataset\n",
    "- Understanding the graph vertices and edges\n",
    "- Simple queries\n",
    "- Using motif finding\n",
    "- Using breadth first search\n",
    "- Using PageRank\n",
    "- Visualizing flights using D3\n",
    "\n",
    "Whether traversing social networks or restaurant recommendations, it is easier to understand these data problems within the context of graph structures: vertices, edges, and properties:\n",
    "\n",
    "![Graph](./asset/ch7-im1.png)\n",
    "\n",
    "For example, within the context of social networks, the vertices are the people while the edges are the connections between them. Within the context of restaurant recommendations, the vertices (for example) involve the location, cuisine type, and restaurants while the edges are the connections between them (for example, these three restaurants are in Vancouver, BC, but only two of them serve ramen).\n",
    "\n",
    "While the two graphs are seemingly disconnected, you can in fact create a social network + restaurant recommendation graph based on the reviews of friends within a social circle, as noted in the following figure:\n",
    "\n",
    "![Graph](./asset/ch7-im2.png)\n",
    "\n",
    "Another classic graph problem is the analysis of flight data: airports are represented by vertices and flights between those airports are represented by edges. Also, there are numerous properties associated with these flights, including, but not limited to, departure delays, plane type, and carrier:\n",
    "\n",
    "\n",
    "In this chapter, we will use GraphFrames to quickly and easily analyze flight performance data organized in graph structures. Because we're using graph structures, we can easily ask many questions that are not as intuitive as tabular structures, such as finding structural motifs, airport ranking using PageRank, and shortest paths between cities. GraphFrames leverages the distribution and expression capabilities of the DataFrame API to both simplify your queries and leverage the performance optimizations of the Apache Spark SQL engine.\n",
    "\n",
    "In addition, with GraphFrames, graph analysis is available in Python, Scala, and Java. Just as important, you can leverage your existing Apache Spark skills to solve graph problems (in addition to machine learning, streaming, and SQL) instead of making a paradigm shift to learn a new framework.\n",
    "\n",
    "## Introductions to GraphFrames\n",
    "GraphFrames utilizes the power of Apache Spark DataFrames to support general graph processing. Specifically, the vertices and edges are represented by DataFrames allowing us to store arbitrary data with each vertex and edge. While GraphFrames is similar to Spark's GraphX library, there are some key differences, including:"
   ]
  },
  {
   "cell_type": "code",
   "execution_count": null,
   "metadata": {},
   "outputs": [],
   "source": []
  }
 ],
 "metadata": {
  "kernelspec": {
   "display_name": "Python 3",
   "language": "python",
   "name": "python3"
  },
  "language_info": {
   "codemirror_mode": {
    "name": "ipython",
    "version": 3
   },
   "file_extension": ".py",
   "mimetype": "text/x-python",
   "name": "python",
   "nbconvert_exporter": "python",
   "pygments_lexer": "ipython3",
   "version": "3.7.3"
  },
  "latex_envs": {
   "LaTeX_envs_menu_present": true,
   "autoclose": false,
   "autocomplete": true,
   "bibliofile": "biblio.bib",
   "cite_by": "apalike",
   "current_citInitial": 1,
   "eqLabelWithNumbers": true,
   "eqNumInitial": 1,
   "hotkeys": {
    "equation": "Ctrl-E",
    "itemize": "Ctrl-I"
   },
   "labels_anchors": false,
   "latex_user_defs": false,
   "report_style_numbering": false,
   "user_envs_cfg": false
  },
  "toc": {
   "base_numbering": 1,
   "nav_menu": {},
   "number_sections": true,
   "sideBar": true,
   "skip_h1_title": false,
   "title_cell": "Table of Contents",
   "title_sidebar": "Contents",
   "toc_cell": false,
   "toc_position": {},
   "toc_section_display": true,
   "toc_window_display": false
  }
 },
 "nbformat": 4,
 "nbformat_minor": 2
}
